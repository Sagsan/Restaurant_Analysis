{
 "cells": [
  {
   "cell_type": "markdown",
   "id": "2465e0f9",
   "metadata": {},
   "source": [
    "# Level 3 "
   ]
  },
  {
   "cell_type": "markdown",
   "id": "b967c193",
   "metadata": {},
   "source": [
    "# Task 1 \n",
    "\n",
    "# Predictive Modeling"
   ]
  },
  {
   "cell_type": "code",
   "execution_count": 1,
   "id": "8afca2b6",
   "metadata": {},
   "outputs": [],
   "source": [
    "#Importing the dataset\n",
    "import numpy as np \n",
    "import pandas as pd \n",
    "import matplotlib.pyplot as plt \n",
    "import seaborn as sns"
   ]
  },
  {
   "cell_type": "code",
   "execution_count": 2,
   "id": "03e7abe4",
   "metadata": {
    "scrolled": true
   },
   "outputs": [
    {
     "data": {
      "text/html": [
       "<div>\n",
       "<style scoped>\n",
       "    .dataframe tbody tr th:only-of-type {\n",
       "        vertical-align: middle;\n",
       "    }\n",
       "\n",
       "    .dataframe tbody tr th {\n",
       "        vertical-align: top;\n",
       "    }\n",
       "\n",
       "    .dataframe thead th {\n",
       "        text-align: right;\n",
       "    }\n",
       "</style>\n",
       "<table border=\"1\" class=\"dataframe\">\n",
       "  <thead>\n",
       "    <tr style=\"text-align: right;\">\n",
       "      <th></th>\n",
       "      <th>Restaurant ID</th>\n",
       "      <th>Restaurant Name</th>\n",
       "      <th>Country Code</th>\n",
       "      <th>City</th>\n",
       "      <th>Address</th>\n",
       "      <th>Locality</th>\n",
       "      <th>Locality Verbose</th>\n",
       "      <th>Longitude</th>\n",
       "      <th>Latitude</th>\n",
       "      <th>Cuisines</th>\n",
       "      <th>...</th>\n",
       "      <th>Currency</th>\n",
       "      <th>Has Table booking</th>\n",
       "      <th>Has Online delivery</th>\n",
       "      <th>Is delivering now</th>\n",
       "      <th>Switch to order menu</th>\n",
       "      <th>Price range</th>\n",
       "      <th>Aggregate rating</th>\n",
       "      <th>Rating color</th>\n",
       "      <th>Rating text</th>\n",
       "      <th>Votes</th>\n",
       "    </tr>\n",
       "  </thead>\n",
       "  <tbody>\n",
       "    <tr>\n",
       "      <th>0</th>\n",
       "      <td>6317637</td>\n",
       "      <td>Le Petit Souffle</td>\n",
       "      <td>162</td>\n",
       "      <td>Makati City</td>\n",
       "      <td>Third Floor, Century City Mall, Kalayaan Avenu...</td>\n",
       "      <td>Century City Mall, Poblacion, Makati City</td>\n",
       "      <td>Century City Mall, Poblacion, Makati City, Mak...</td>\n",
       "      <td>121.027535</td>\n",
       "      <td>14.565443</td>\n",
       "      <td>French, Japanese, Desserts</td>\n",
       "      <td>...</td>\n",
       "      <td>Botswana Pula(P)</td>\n",
       "      <td>Yes</td>\n",
       "      <td>No</td>\n",
       "      <td>No</td>\n",
       "      <td>No</td>\n",
       "      <td>3</td>\n",
       "      <td>4.8</td>\n",
       "      <td>Dark Green</td>\n",
       "      <td>Excellent</td>\n",
       "      <td>314</td>\n",
       "    </tr>\n",
       "    <tr>\n",
       "      <th>1</th>\n",
       "      <td>6304287</td>\n",
       "      <td>Izakaya Kikufuji</td>\n",
       "      <td>162</td>\n",
       "      <td>Makati City</td>\n",
       "      <td>Little Tokyo, 2277 Chino Roces Avenue, Legaspi...</td>\n",
       "      <td>Little Tokyo, Legaspi Village, Makati City</td>\n",
       "      <td>Little Tokyo, Legaspi Village, Makati City, Ma...</td>\n",
       "      <td>121.014101</td>\n",
       "      <td>14.553708</td>\n",
       "      <td>Japanese</td>\n",
       "      <td>...</td>\n",
       "      <td>Botswana Pula(P)</td>\n",
       "      <td>Yes</td>\n",
       "      <td>No</td>\n",
       "      <td>No</td>\n",
       "      <td>No</td>\n",
       "      <td>3</td>\n",
       "      <td>4.5</td>\n",
       "      <td>Dark Green</td>\n",
       "      <td>Excellent</td>\n",
       "      <td>591</td>\n",
       "    </tr>\n",
       "    <tr>\n",
       "      <th>2</th>\n",
       "      <td>6300002</td>\n",
       "      <td>Heat - Edsa Shangri-La</td>\n",
       "      <td>162</td>\n",
       "      <td>Mandaluyong City</td>\n",
       "      <td>Edsa Shangri-La, 1 Garden Way, Ortigas, Mandal...</td>\n",
       "      <td>Edsa Shangri-La, Ortigas, Mandaluyong City</td>\n",
       "      <td>Edsa Shangri-La, Ortigas, Mandaluyong City, Ma...</td>\n",
       "      <td>121.056831</td>\n",
       "      <td>14.581404</td>\n",
       "      <td>Seafood, Asian, Filipino, Indian</td>\n",
       "      <td>...</td>\n",
       "      <td>Botswana Pula(P)</td>\n",
       "      <td>Yes</td>\n",
       "      <td>No</td>\n",
       "      <td>No</td>\n",
       "      <td>No</td>\n",
       "      <td>4</td>\n",
       "      <td>4.4</td>\n",
       "      <td>Green</td>\n",
       "      <td>Very Good</td>\n",
       "      <td>270</td>\n",
       "    </tr>\n",
       "    <tr>\n",
       "      <th>3</th>\n",
       "      <td>6318506</td>\n",
       "      <td>Ooma</td>\n",
       "      <td>162</td>\n",
       "      <td>Mandaluyong City</td>\n",
       "      <td>Third Floor, Mega Fashion Hall, SM Megamall, O...</td>\n",
       "      <td>SM Megamall, Ortigas, Mandaluyong City</td>\n",
       "      <td>SM Megamall, Ortigas, Mandaluyong City, Mandal...</td>\n",
       "      <td>121.056475</td>\n",
       "      <td>14.585318</td>\n",
       "      <td>Japanese, Sushi</td>\n",
       "      <td>...</td>\n",
       "      <td>Botswana Pula(P)</td>\n",
       "      <td>No</td>\n",
       "      <td>No</td>\n",
       "      <td>No</td>\n",
       "      <td>No</td>\n",
       "      <td>4</td>\n",
       "      <td>4.9</td>\n",
       "      <td>Dark Green</td>\n",
       "      <td>Excellent</td>\n",
       "      <td>365</td>\n",
       "    </tr>\n",
       "    <tr>\n",
       "      <th>4</th>\n",
       "      <td>6314302</td>\n",
       "      <td>Sambo Kojin</td>\n",
       "      <td>162</td>\n",
       "      <td>Mandaluyong City</td>\n",
       "      <td>Third Floor, Mega Atrium, SM Megamall, Ortigas...</td>\n",
       "      <td>SM Megamall, Ortigas, Mandaluyong City</td>\n",
       "      <td>SM Megamall, Ortigas, Mandaluyong City, Mandal...</td>\n",
       "      <td>121.057508</td>\n",
       "      <td>14.584450</td>\n",
       "      <td>Japanese, Korean</td>\n",
       "      <td>...</td>\n",
       "      <td>Botswana Pula(P)</td>\n",
       "      <td>Yes</td>\n",
       "      <td>No</td>\n",
       "      <td>No</td>\n",
       "      <td>No</td>\n",
       "      <td>4</td>\n",
       "      <td>4.8</td>\n",
       "      <td>Dark Green</td>\n",
       "      <td>Excellent</td>\n",
       "      <td>229</td>\n",
       "    </tr>\n",
       "  </tbody>\n",
       "</table>\n",
       "<p>5 rows × 21 columns</p>\n",
       "</div>"
      ],
      "text/plain": [
       "   Restaurant ID         Restaurant Name  Country Code              City  \\\n",
       "0        6317637        Le Petit Souffle           162       Makati City   \n",
       "1        6304287        Izakaya Kikufuji           162       Makati City   \n",
       "2        6300002  Heat - Edsa Shangri-La           162  Mandaluyong City   \n",
       "3        6318506                    Ooma           162  Mandaluyong City   \n",
       "4        6314302             Sambo Kojin           162  Mandaluyong City   \n",
       "\n",
       "                                             Address  \\\n",
       "0  Third Floor, Century City Mall, Kalayaan Avenu...   \n",
       "1  Little Tokyo, 2277 Chino Roces Avenue, Legaspi...   \n",
       "2  Edsa Shangri-La, 1 Garden Way, Ortigas, Mandal...   \n",
       "3  Third Floor, Mega Fashion Hall, SM Megamall, O...   \n",
       "4  Third Floor, Mega Atrium, SM Megamall, Ortigas...   \n",
       "\n",
       "                                     Locality  \\\n",
       "0   Century City Mall, Poblacion, Makati City   \n",
       "1  Little Tokyo, Legaspi Village, Makati City   \n",
       "2  Edsa Shangri-La, Ortigas, Mandaluyong City   \n",
       "3      SM Megamall, Ortigas, Mandaluyong City   \n",
       "4      SM Megamall, Ortigas, Mandaluyong City   \n",
       "\n",
       "                                    Locality Verbose   Longitude   Latitude  \\\n",
       "0  Century City Mall, Poblacion, Makati City, Mak...  121.027535  14.565443   \n",
       "1  Little Tokyo, Legaspi Village, Makati City, Ma...  121.014101  14.553708   \n",
       "2  Edsa Shangri-La, Ortigas, Mandaluyong City, Ma...  121.056831  14.581404   \n",
       "3  SM Megamall, Ortigas, Mandaluyong City, Mandal...  121.056475  14.585318   \n",
       "4  SM Megamall, Ortigas, Mandaluyong City, Mandal...  121.057508  14.584450   \n",
       "\n",
       "                           Cuisines  ...          Currency Has Table booking  \\\n",
       "0        French, Japanese, Desserts  ...  Botswana Pula(P)               Yes   \n",
       "1                          Japanese  ...  Botswana Pula(P)               Yes   \n",
       "2  Seafood, Asian, Filipino, Indian  ...  Botswana Pula(P)               Yes   \n",
       "3                   Japanese, Sushi  ...  Botswana Pula(P)                No   \n",
       "4                  Japanese, Korean  ...  Botswana Pula(P)               Yes   \n",
       "\n",
       "  Has Online delivery Is delivering now Switch to order menu Price range  \\\n",
       "0                  No                No                   No           3   \n",
       "1                  No                No                   No           3   \n",
       "2                  No                No                   No           4   \n",
       "3                  No                No                   No           4   \n",
       "4                  No                No                   No           4   \n",
       "\n",
       "   Aggregate rating  Rating color Rating text Votes  \n",
       "0               4.8    Dark Green   Excellent   314  \n",
       "1               4.5    Dark Green   Excellent   591  \n",
       "2               4.4         Green   Very Good   270  \n",
       "3               4.9    Dark Green   Excellent   365  \n",
       "4               4.8    Dark Green   Excellent   229  \n",
       "\n",
       "[5 rows x 21 columns]"
      ]
     },
     "execution_count": 2,
     "metadata": {},
     "output_type": "execute_result"
    }
   ],
   "source": [
    "#Importing the dataset\n",
    "Dataset = pd.read_csv('Dataset.csv')\n",
    "Dataset.head()"
   ]
  },
  {
   "cell_type": "code",
   "execution_count": 3,
   "id": "8d56d14b",
   "metadata": {},
   "outputs": [],
   "source": [
    "columns_to_clean = ['Restaurant Name', 'City', 'Address', 'Locality', 'Locality Verbose']\n",
    "\n",
    "for column in columns_to_clean:\n",
    "    Dataset[column] = Dataset[column].str.replace('[^a-zA-Z0-9\\s]', '', regex=True)"
   ]
  },
  {
   "cell_type": "code",
   "execution_count": 4,
   "id": "547a33ba",
   "metadata": {},
   "outputs": [],
   "source": [
    "#Data Cleaning for model Preparation"
   ]
  },
  {
   "cell_type": "code",
   "execution_count": 5,
   "id": "7c07aa1c",
   "metadata": {},
   "outputs": [
    {
     "data": {
      "text/plain": [
       "Index(['Restaurant ID', 'Restaurant Name', 'Country Code', 'City', 'Address',\n",
       "       'Locality', 'Locality Verbose', 'Longitude', 'Latitude', 'Cuisines',\n",
       "       'Average Cost for two', 'Currency', 'Has Table booking',\n",
       "       'Has Online delivery', 'Is delivering now', 'Switch to order menu',\n",
       "       'Price range', 'Aggregate rating', 'Rating color', 'Rating text',\n",
       "       'Votes'],\n",
       "      dtype='object')"
      ]
     },
     "execution_count": 5,
     "metadata": {},
     "output_type": "execute_result"
    }
   ],
   "source": [
    "Dataset.columns"
   ]
  },
  {
   "cell_type": "code",
   "execution_count": 6,
   "id": "f9235c25",
   "metadata": {
    "scrolled": false
   },
   "outputs": [
    {
     "data": {
      "text/html": [
       "<div>\n",
       "<style scoped>\n",
       "    .dataframe tbody tr th:only-of-type {\n",
       "        vertical-align: middle;\n",
       "    }\n",
       "\n",
       "    .dataframe tbody tr th {\n",
       "        vertical-align: top;\n",
       "    }\n",
       "\n",
       "    .dataframe thead th {\n",
       "        text-align: right;\n",
       "    }\n",
       "</style>\n",
       "<table border=\"1\" class=\"dataframe\">\n",
       "  <thead>\n",
       "    <tr style=\"text-align: right;\">\n",
       "      <th></th>\n",
       "      <th>Restaurant ID</th>\n",
       "      <th>Restaurant Name</th>\n",
       "      <th>Country Code</th>\n",
       "      <th>City</th>\n",
       "      <th>Address</th>\n",
       "      <th>Locality</th>\n",
       "      <th>Locality Verbose</th>\n",
       "      <th>Longitude</th>\n",
       "      <th>Latitude</th>\n",
       "      <th>Cuisines</th>\n",
       "      <th>...</th>\n",
       "      <th>Currency</th>\n",
       "      <th>Has Table booking</th>\n",
       "      <th>Has Online delivery</th>\n",
       "      <th>Is delivering now</th>\n",
       "      <th>Switch to order menu</th>\n",
       "      <th>Price range</th>\n",
       "      <th>Aggregate rating</th>\n",
       "      <th>Rating color</th>\n",
       "      <th>Rating text</th>\n",
       "      <th>Votes</th>\n",
       "    </tr>\n",
       "  </thead>\n",
       "  <tbody>\n",
       "    <tr>\n",
       "      <th>0</th>\n",
       "      <td>6317637</td>\n",
       "      <td>Le Petit Souffle</td>\n",
       "      <td>162</td>\n",
       "      <td>Makati City</td>\n",
       "      <td>Third Floor Century City Mall Kalayaan Avenue ...</td>\n",
       "      <td>Century City Mall Poblacion Makati City</td>\n",
       "      <td>Century City Mall Poblacion Makati City Makati...</td>\n",
       "      <td>121.027535</td>\n",
       "      <td>14.565443</td>\n",
       "      <td>French, Japanese, Desserts</td>\n",
       "      <td>...</td>\n",
       "      <td>Botswana Pula(P)</td>\n",
       "      <td>1</td>\n",
       "      <td>0</td>\n",
       "      <td>No</td>\n",
       "      <td>No</td>\n",
       "      <td>3</td>\n",
       "      <td>4.8</td>\n",
       "      <td>Dark Green</td>\n",
       "      <td>Excellent</td>\n",
       "      <td>314</td>\n",
       "    </tr>\n",
       "    <tr>\n",
       "      <th>1</th>\n",
       "      <td>6304287</td>\n",
       "      <td>Izakaya Kikufuji</td>\n",
       "      <td>162</td>\n",
       "      <td>Makati City</td>\n",
       "      <td>Little Tokyo 2277 Chino Roces Avenue Legaspi V...</td>\n",
       "      <td>Little Tokyo Legaspi Village Makati City</td>\n",
       "      <td>Little Tokyo Legaspi Village Makati City Makat...</td>\n",
       "      <td>121.014101</td>\n",
       "      <td>14.553708</td>\n",
       "      <td>Japanese</td>\n",
       "      <td>...</td>\n",
       "      <td>Botswana Pula(P)</td>\n",
       "      <td>1</td>\n",
       "      <td>0</td>\n",
       "      <td>No</td>\n",
       "      <td>No</td>\n",
       "      <td>3</td>\n",
       "      <td>4.5</td>\n",
       "      <td>Dark Green</td>\n",
       "      <td>Excellent</td>\n",
       "      <td>591</td>\n",
       "    </tr>\n",
       "    <tr>\n",
       "      <th>2</th>\n",
       "      <td>6300002</td>\n",
       "      <td>Heat  Edsa ShangriLa</td>\n",
       "      <td>162</td>\n",
       "      <td>Mandaluyong City</td>\n",
       "      <td>Edsa ShangriLa 1 Garden Way Ortigas Mandaluyon...</td>\n",
       "      <td>Edsa ShangriLa Ortigas Mandaluyong City</td>\n",
       "      <td>Edsa ShangriLa Ortigas Mandaluyong City Mandal...</td>\n",
       "      <td>121.056831</td>\n",
       "      <td>14.581404</td>\n",
       "      <td>Seafood, Asian, Filipino, Indian</td>\n",
       "      <td>...</td>\n",
       "      <td>Botswana Pula(P)</td>\n",
       "      <td>1</td>\n",
       "      <td>0</td>\n",
       "      <td>No</td>\n",
       "      <td>No</td>\n",
       "      <td>4</td>\n",
       "      <td>4.4</td>\n",
       "      <td>Green</td>\n",
       "      <td>Very Good</td>\n",
       "      <td>270</td>\n",
       "    </tr>\n",
       "    <tr>\n",
       "      <th>3</th>\n",
       "      <td>6318506</td>\n",
       "      <td>Ooma</td>\n",
       "      <td>162</td>\n",
       "      <td>Mandaluyong City</td>\n",
       "      <td>Third Floor Mega Fashion Hall SM Megamall Orti...</td>\n",
       "      <td>SM Megamall Ortigas Mandaluyong City</td>\n",
       "      <td>SM Megamall Ortigas Mandaluyong City Mandaluyo...</td>\n",
       "      <td>121.056475</td>\n",
       "      <td>14.585318</td>\n",
       "      <td>Japanese, Sushi</td>\n",
       "      <td>...</td>\n",
       "      <td>Botswana Pula(P)</td>\n",
       "      <td>0</td>\n",
       "      <td>0</td>\n",
       "      <td>No</td>\n",
       "      <td>No</td>\n",
       "      <td>4</td>\n",
       "      <td>4.9</td>\n",
       "      <td>Dark Green</td>\n",
       "      <td>Excellent</td>\n",
       "      <td>365</td>\n",
       "    </tr>\n",
       "    <tr>\n",
       "      <th>4</th>\n",
       "      <td>6314302</td>\n",
       "      <td>Sambo Kojin</td>\n",
       "      <td>162</td>\n",
       "      <td>Mandaluyong City</td>\n",
       "      <td>Third Floor Mega Atrium SM Megamall Ortigas Ma...</td>\n",
       "      <td>SM Megamall Ortigas Mandaluyong City</td>\n",
       "      <td>SM Megamall Ortigas Mandaluyong City Mandaluyo...</td>\n",
       "      <td>121.057508</td>\n",
       "      <td>14.584450</td>\n",
       "      <td>Japanese, Korean</td>\n",
       "      <td>...</td>\n",
       "      <td>Botswana Pula(P)</td>\n",
       "      <td>1</td>\n",
       "      <td>0</td>\n",
       "      <td>No</td>\n",
       "      <td>No</td>\n",
       "      <td>4</td>\n",
       "      <td>4.8</td>\n",
       "      <td>Dark Green</td>\n",
       "      <td>Excellent</td>\n",
       "      <td>229</td>\n",
       "    </tr>\n",
       "  </tbody>\n",
       "</table>\n",
       "<p>5 rows × 21 columns</p>\n",
       "</div>"
      ],
      "text/plain": [
       "   Restaurant ID       Restaurant Name  Country Code              City  \\\n",
       "0        6317637      Le Petit Souffle           162       Makati City   \n",
       "1        6304287      Izakaya Kikufuji           162       Makati City   \n",
       "2        6300002  Heat  Edsa ShangriLa           162  Mandaluyong City   \n",
       "3        6318506                  Ooma           162  Mandaluyong City   \n",
       "4        6314302           Sambo Kojin           162  Mandaluyong City   \n",
       "\n",
       "                                             Address  \\\n",
       "0  Third Floor Century City Mall Kalayaan Avenue ...   \n",
       "1  Little Tokyo 2277 Chino Roces Avenue Legaspi V...   \n",
       "2  Edsa ShangriLa 1 Garden Way Ortigas Mandaluyon...   \n",
       "3  Third Floor Mega Fashion Hall SM Megamall Orti...   \n",
       "4  Third Floor Mega Atrium SM Megamall Ortigas Ma...   \n",
       "\n",
       "                                   Locality  \\\n",
       "0   Century City Mall Poblacion Makati City   \n",
       "1  Little Tokyo Legaspi Village Makati City   \n",
       "2   Edsa ShangriLa Ortigas Mandaluyong City   \n",
       "3      SM Megamall Ortigas Mandaluyong City   \n",
       "4      SM Megamall Ortigas Mandaluyong City   \n",
       "\n",
       "                                    Locality Verbose   Longitude   Latitude  \\\n",
       "0  Century City Mall Poblacion Makati City Makati...  121.027535  14.565443   \n",
       "1  Little Tokyo Legaspi Village Makati City Makat...  121.014101  14.553708   \n",
       "2  Edsa ShangriLa Ortigas Mandaluyong City Mandal...  121.056831  14.581404   \n",
       "3  SM Megamall Ortigas Mandaluyong City Mandaluyo...  121.056475  14.585318   \n",
       "4  SM Megamall Ortigas Mandaluyong City Mandaluyo...  121.057508  14.584450   \n",
       "\n",
       "                           Cuisines  ...          Currency Has Table booking  \\\n",
       "0        French, Japanese, Desserts  ...  Botswana Pula(P)                 1   \n",
       "1                          Japanese  ...  Botswana Pula(P)                 1   \n",
       "2  Seafood, Asian, Filipino, Indian  ...  Botswana Pula(P)                 1   \n",
       "3                   Japanese, Sushi  ...  Botswana Pula(P)                 0   \n",
       "4                  Japanese, Korean  ...  Botswana Pula(P)                 1   \n",
       "\n",
       "   Has Online delivery  Is delivering now Switch to order menu Price range  \\\n",
       "0                    0                 No                   No           3   \n",
       "1                    0                 No                   No           3   \n",
       "2                    0                 No                   No           4   \n",
       "3                    0                 No                   No           4   \n",
       "4                    0                 No                   No           4   \n",
       "\n",
       "   Aggregate rating  Rating color Rating text Votes  \n",
       "0               4.8    Dark Green   Excellent   314  \n",
       "1               4.5    Dark Green   Excellent   591  \n",
       "2               4.4         Green   Very Good   270  \n",
       "3               4.9    Dark Green   Excellent   365  \n",
       "4               4.8    Dark Green   Excellent   229  \n",
       "\n",
       "[5 rows x 21 columns]"
      ]
     },
     "execution_count": 6,
     "metadata": {},
     "output_type": "execute_result"
    }
   ],
   "source": [
    "#Converting Categorical Features to Numeric\n",
    "Dataset['Has Table booking'] = Dataset['Has Table booking'].replace({'Yes': 1, 'No': 0})\n",
    "\n",
    "Dataset['Has Online delivery'] = Dataset['Has Online delivery'].replace({'Yes': 1, 'No': 0})\n",
    "\n",
    "Dataset.head()"
   ]
  },
  {
   "cell_type": "code",
   "execution_count": 7,
   "id": "2d1e0a31",
   "metadata": {},
   "outputs": [],
   "source": [
    "Dataset['Is delivering now'] = Dataset[\"Is delivering now\"].replace({'Yes':1 , 'No':0})"
   ]
  },
  {
   "cell_type": "code",
   "execution_count": 8,
   "id": "93ba65ab",
   "metadata": {},
   "outputs": [
    {
     "data": {
      "text/plain": [
       "array(['No'], dtype=object)"
      ]
     },
     "execution_count": 8,
     "metadata": {},
     "output_type": "execute_result"
    }
   ],
   "source": [
    "Dataset['Switch to order menu'].unique()"
   ]
  },
  {
   "cell_type": "code",
   "execution_count": 9,
   "id": "204c337f",
   "metadata": {},
   "outputs": [
    {
     "data": {
      "text/plain": [
       "array(['Dark Green', 'Green', 'Yellow', 'Orange', 'White', 'Red'],\n",
       "      dtype=object)"
      ]
     },
     "execution_count": 9,
     "metadata": {},
     "output_type": "execute_result"
    }
   ],
   "source": [
    "Dataset['Rating color'].unique()"
   ]
  },
  {
   "cell_type": "code",
   "execution_count": 10,
   "id": "a352ec5d",
   "metadata": {},
   "outputs": [],
   "source": [
    "Dataset['Rating color'] = Dataset['Rating color'].replace({'Dark Green':1,\"Green\":2,\"Yellow\":3,'Orange':4,'White':5,'Red':6})"
   ]
  },
  {
   "cell_type": "code",
   "execution_count": 11,
   "id": "ceb196ba",
   "metadata": {
    "scrolled": true
   },
   "outputs": [
    {
     "data": {
      "text/plain": [
       "array(['Excellent', 'Very Good', 'Good', 'Average', 'Not rated', 'Poor'],\n",
       "      dtype=object)"
      ]
     },
     "execution_count": 11,
     "metadata": {},
     "output_type": "execute_result"
    }
   ],
   "source": [
    "Dataset['Rating text'].unique()"
   ]
  },
  {
   "cell_type": "code",
   "execution_count": 12,
   "id": "0876e142",
   "metadata": {},
   "outputs": [
    {
     "data": {
      "text/plain": [
       "array(['Excellent', 'Very Good', 'Good', 'Average', 'Not rated', 'Poor'],\n",
       "      dtype=object)"
      ]
     },
     "execution_count": 12,
     "metadata": {},
     "output_type": "execute_result"
    }
   ],
   "source": [
    "Dataset['Rating text'].unique()"
   ]
  },
  {
   "cell_type": "code",
   "execution_count": 13,
   "id": "7652f609",
   "metadata": {},
   "outputs": [],
   "source": [
    "#'Poor' is assigned the label 0\n",
    "#'Not rated' is assigned the label 1\n",
    "#'Average' is assigned the label 2\n",
    "#'Good' is assigned the label 3\n",
    "#'Very Good' is assigned the label 4\n",
    "#'Excellent' is assigned the label 5\n",
    "\n",
    "# Label Encoding \n",
    "from sklearn.preprocessing import LabelEncoder\n",
    "labelencoder = LabelEncoder()\n",
    "Dataset['Rating text'] = labelencoder.fit_transform(Dataset['Rating text'])"
   ]
  },
  {
   "cell_type": "code",
   "execution_count": 14,
   "id": "4578205a",
   "metadata": {
    "scrolled": true
   },
   "outputs": [
    {
     "data": {
      "text/html": [
       "<div>\n",
       "<style scoped>\n",
       "    .dataframe tbody tr th:only-of-type {\n",
       "        vertical-align: middle;\n",
       "    }\n",
       "\n",
       "    .dataframe tbody tr th {\n",
       "        vertical-align: top;\n",
       "    }\n",
       "\n",
       "    .dataframe thead th {\n",
       "        text-align: right;\n",
       "    }\n",
       "</style>\n",
       "<table border=\"1\" class=\"dataframe\">\n",
       "  <thead>\n",
       "    <tr style=\"text-align: right;\">\n",
       "      <th></th>\n",
       "      <th>Restaurant ID</th>\n",
       "      <th>Restaurant Name</th>\n",
       "      <th>Country Code</th>\n",
       "      <th>City</th>\n",
       "      <th>Address</th>\n",
       "      <th>Locality</th>\n",
       "      <th>Locality Verbose</th>\n",
       "      <th>Longitude</th>\n",
       "      <th>Latitude</th>\n",
       "      <th>Cuisines</th>\n",
       "      <th>...</th>\n",
       "      <th>Currency</th>\n",
       "      <th>Has Table booking</th>\n",
       "      <th>Has Online delivery</th>\n",
       "      <th>Is delivering now</th>\n",
       "      <th>Switch to order menu</th>\n",
       "      <th>Price range</th>\n",
       "      <th>Aggregate rating</th>\n",
       "      <th>Rating color</th>\n",
       "      <th>Rating text</th>\n",
       "      <th>Votes</th>\n",
       "    </tr>\n",
       "  </thead>\n",
       "  <tbody>\n",
       "    <tr>\n",
       "      <th>0</th>\n",
       "      <td>6317637</td>\n",
       "      <td>Le Petit Souffle</td>\n",
       "      <td>162</td>\n",
       "      <td>Makati City</td>\n",
       "      <td>Third Floor Century City Mall Kalayaan Avenue ...</td>\n",
       "      <td>Century City Mall Poblacion Makati City</td>\n",
       "      <td>Century City Mall Poblacion Makati City Makati...</td>\n",
       "      <td>121.027535</td>\n",
       "      <td>14.565443</td>\n",
       "      <td>French, Japanese, Desserts</td>\n",
       "      <td>...</td>\n",
       "      <td>Botswana Pula(P)</td>\n",
       "      <td>1</td>\n",
       "      <td>0</td>\n",
       "      <td>0</td>\n",
       "      <td>No</td>\n",
       "      <td>3</td>\n",
       "      <td>4.8</td>\n",
       "      <td>1</td>\n",
       "      <td>1</td>\n",
       "      <td>314</td>\n",
       "    </tr>\n",
       "    <tr>\n",
       "      <th>1</th>\n",
       "      <td>6304287</td>\n",
       "      <td>Izakaya Kikufuji</td>\n",
       "      <td>162</td>\n",
       "      <td>Makati City</td>\n",
       "      <td>Little Tokyo 2277 Chino Roces Avenue Legaspi V...</td>\n",
       "      <td>Little Tokyo Legaspi Village Makati City</td>\n",
       "      <td>Little Tokyo Legaspi Village Makati City Makat...</td>\n",
       "      <td>121.014101</td>\n",
       "      <td>14.553708</td>\n",
       "      <td>Japanese</td>\n",
       "      <td>...</td>\n",
       "      <td>Botswana Pula(P)</td>\n",
       "      <td>1</td>\n",
       "      <td>0</td>\n",
       "      <td>0</td>\n",
       "      <td>No</td>\n",
       "      <td>3</td>\n",
       "      <td>4.5</td>\n",
       "      <td>1</td>\n",
       "      <td>1</td>\n",
       "      <td>591</td>\n",
       "    </tr>\n",
       "    <tr>\n",
       "      <th>2</th>\n",
       "      <td>6300002</td>\n",
       "      <td>Heat  Edsa ShangriLa</td>\n",
       "      <td>162</td>\n",
       "      <td>Mandaluyong City</td>\n",
       "      <td>Edsa ShangriLa 1 Garden Way Ortigas Mandaluyon...</td>\n",
       "      <td>Edsa ShangriLa Ortigas Mandaluyong City</td>\n",
       "      <td>Edsa ShangriLa Ortigas Mandaluyong City Mandal...</td>\n",
       "      <td>121.056831</td>\n",
       "      <td>14.581404</td>\n",
       "      <td>Seafood, Asian, Filipino, Indian</td>\n",
       "      <td>...</td>\n",
       "      <td>Botswana Pula(P)</td>\n",
       "      <td>1</td>\n",
       "      <td>0</td>\n",
       "      <td>0</td>\n",
       "      <td>No</td>\n",
       "      <td>4</td>\n",
       "      <td>4.4</td>\n",
       "      <td>2</td>\n",
       "      <td>5</td>\n",
       "      <td>270</td>\n",
       "    </tr>\n",
       "    <tr>\n",
       "      <th>3</th>\n",
       "      <td>6318506</td>\n",
       "      <td>Ooma</td>\n",
       "      <td>162</td>\n",
       "      <td>Mandaluyong City</td>\n",
       "      <td>Third Floor Mega Fashion Hall SM Megamall Orti...</td>\n",
       "      <td>SM Megamall Ortigas Mandaluyong City</td>\n",
       "      <td>SM Megamall Ortigas Mandaluyong City Mandaluyo...</td>\n",
       "      <td>121.056475</td>\n",
       "      <td>14.585318</td>\n",
       "      <td>Japanese, Sushi</td>\n",
       "      <td>...</td>\n",
       "      <td>Botswana Pula(P)</td>\n",
       "      <td>0</td>\n",
       "      <td>0</td>\n",
       "      <td>0</td>\n",
       "      <td>No</td>\n",
       "      <td>4</td>\n",
       "      <td>4.9</td>\n",
       "      <td>1</td>\n",
       "      <td>1</td>\n",
       "      <td>365</td>\n",
       "    </tr>\n",
       "    <tr>\n",
       "      <th>4</th>\n",
       "      <td>6314302</td>\n",
       "      <td>Sambo Kojin</td>\n",
       "      <td>162</td>\n",
       "      <td>Mandaluyong City</td>\n",
       "      <td>Third Floor Mega Atrium SM Megamall Ortigas Ma...</td>\n",
       "      <td>SM Megamall Ortigas Mandaluyong City</td>\n",
       "      <td>SM Megamall Ortigas Mandaluyong City Mandaluyo...</td>\n",
       "      <td>121.057508</td>\n",
       "      <td>14.584450</td>\n",
       "      <td>Japanese, Korean</td>\n",
       "      <td>...</td>\n",
       "      <td>Botswana Pula(P)</td>\n",
       "      <td>1</td>\n",
       "      <td>0</td>\n",
       "      <td>0</td>\n",
       "      <td>No</td>\n",
       "      <td>4</td>\n",
       "      <td>4.8</td>\n",
       "      <td>1</td>\n",
       "      <td>1</td>\n",
       "      <td>229</td>\n",
       "    </tr>\n",
       "    <tr>\n",
       "      <th>...</th>\n",
       "      <td>...</td>\n",
       "      <td>...</td>\n",
       "      <td>...</td>\n",
       "      <td>...</td>\n",
       "      <td>...</td>\n",
       "      <td>...</td>\n",
       "      <td>...</td>\n",
       "      <td>...</td>\n",
       "      <td>...</td>\n",
       "      <td>...</td>\n",
       "      <td>...</td>\n",
       "      <td>...</td>\n",
       "      <td>...</td>\n",
       "      <td>...</td>\n",
       "      <td>...</td>\n",
       "      <td>...</td>\n",
       "      <td>...</td>\n",
       "      <td>...</td>\n",
       "      <td>...</td>\n",
       "      <td>...</td>\n",
       "      <td>...</td>\n",
       "    </tr>\n",
       "    <tr>\n",
       "      <th>9546</th>\n",
       "      <td>5915730</td>\n",
       "      <td>Naml Gurme</td>\n",
       "      <td>208</td>\n",
       "      <td>stanbul</td>\n",
       "      <td>Kemanke Karamustafa Paa Mahallesi Rhtm Caddesi...</td>\n",
       "      <td>Karaky</td>\n",
       "      <td>Karaky stanbul</td>\n",
       "      <td>28.977392</td>\n",
       "      <td>41.022793</td>\n",
       "      <td>Turkish</td>\n",
       "      <td>...</td>\n",
       "      <td>Turkish Lira(TL)</td>\n",
       "      <td>0</td>\n",
       "      <td>0</td>\n",
       "      <td>0</td>\n",
       "      <td>No</td>\n",
       "      <td>3</td>\n",
       "      <td>4.1</td>\n",
       "      <td>2</td>\n",
       "      <td>5</td>\n",
       "      <td>788</td>\n",
       "    </tr>\n",
       "    <tr>\n",
       "      <th>9547</th>\n",
       "      <td>5908749</td>\n",
       "      <td>Ceviz Aac</td>\n",
       "      <td>208</td>\n",
       "      <td>stanbul</td>\n",
       "      <td>Kouyolu Mahallesi Muhittin stnda Caddesi No 85...</td>\n",
       "      <td>Kouyolu</td>\n",
       "      <td>Kouyolu stanbul</td>\n",
       "      <td>29.041297</td>\n",
       "      <td>41.009847</td>\n",
       "      <td>World Cuisine, Patisserie, Cafe</td>\n",
       "      <td>...</td>\n",
       "      <td>Turkish Lira(TL)</td>\n",
       "      <td>0</td>\n",
       "      <td>0</td>\n",
       "      <td>0</td>\n",
       "      <td>No</td>\n",
       "      <td>3</td>\n",
       "      <td>4.2</td>\n",
       "      <td>2</td>\n",
       "      <td>5</td>\n",
       "      <td>1034</td>\n",
       "    </tr>\n",
       "    <tr>\n",
       "      <th>9548</th>\n",
       "      <td>5915807</td>\n",
       "      <td>Huqqa</td>\n",
       "      <td>208</td>\n",
       "      <td>stanbul</td>\n",
       "      <td>Kurueme Mahallesi Muallim Naci Caddesi No 56 B...</td>\n",
       "      <td>Kurueme</td>\n",
       "      <td>Kurueme stanbul</td>\n",
       "      <td>29.034640</td>\n",
       "      <td>41.055817</td>\n",
       "      <td>Italian, World Cuisine</td>\n",
       "      <td>...</td>\n",
       "      <td>Turkish Lira(TL)</td>\n",
       "      <td>0</td>\n",
       "      <td>0</td>\n",
       "      <td>0</td>\n",
       "      <td>No</td>\n",
       "      <td>4</td>\n",
       "      <td>3.7</td>\n",
       "      <td>3</td>\n",
       "      <td>2</td>\n",
       "      <td>661</td>\n",
       "    </tr>\n",
       "    <tr>\n",
       "      <th>9549</th>\n",
       "      <td>5916112</td>\n",
       "      <td>Ak Kahve</td>\n",
       "      <td>208</td>\n",
       "      <td>stanbul</td>\n",
       "      <td>Kurueme Mahallesi Muallim Naci Caddesi No 64B ...</td>\n",
       "      <td>Kurueme</td>\n",
       "      <td>Kurueme stanbul</td>\n",
       "      <td>29.036019</td>\n",
       "      <td>41.057979</td>\n",
       "      <td>Restaurant Cafe</td>\n",
       "      <td>...</td>\n",
       "      <td>Turkish Lira(TL)</td>\n",
       "      <td>0</td>\n",
       "      <td>0</td>\n",
       "      <td>0</td>\n",
       "      <td>No</td>\n",
       "      <td>4</td>\n",
       "      <td>4.0</td>\n",
       "      <td>2</td>\n",
       "      <td>5</td>\n",
       "      <td>901</td>\n",
       "    </tr>\n",
       "    <tr>\n",
       "      <th>9550</th>\n",
       "      <td>5927402</td>\n",
       "      <td>Walters Coffee Roastery</td>\n",
       "      <td>208</td>\n",
       "      <td>stanbul</td>\n",
       "      <td>Cafeaa Mahallesi Bademalt Sokak No 21B Kadky s...</td>\n",
       "      <td>Moda</td>\n",
       "      <td>Moda stanbul</td>\n",
       "      <td>29.026016</td>\n",
       "      <td>40.984776</td>\n",
       "      <td>Cafe</td>\n",
       "      <td>...</td>\n",
       "      <td>Turkish Lira(TL)</td>\n",
       "      <td>0</td>\n",
       "      <td>0</td>\n",
       "      <td>0</td>\n",
       "      <td>No</td>\n",
       "      <td>2</td>\n",
       "      <td>4.0</td>\n",
       "      <td>2</td>\n",
       "      <td>5</td>\n",
       "      <td>591</td>\n",
       "    </tr>\n",
       "  </tbody>\n",
       "</table>\n",
       "<p>9551 rows × 21 columns</p>\n",
       "</div>"
      ],
      "text/plain": [
       "      Restaurant ID          Restaurant Name  Country Code              City  \\\n",
       "0           6317637         Le Petit Souffle           162       Makati City   \n",
       "1           6304287         Izakaya Kikufuji           162       Makati City   \n",
       "2           6300002     Heat  Edsa ShangriLa           162  Mandaluyong City   \n",
       "3           6318506                     Ooma           162  Mandaluyong City   \n",
       "4           6314302              Sambo Kojin           162  Mandaluyong City   \n",
       "...             ...                      ...           ...               ...   \n",
       "9546        5915730               Naml Gurme           208           stanbul   \n",
       "9547        5908749                Ceviz Aac           208           stanbul   \n",
       "9548        5915807                    Huqqa           208           stanbul   \n",
       "9549        5916112                 Ak Kahve           208           stanbul   \n",
       "9550        5927402  Walters Coffee Roastery           208           stanbul   \n",
       "\n",
       "                                                Address  \\\n",
       "0     Third Floor Century City Mall Kalayaan Avenue ...   \n",
       "1     Little Tokyo 2277 Chino Roces Avenue Legaspi V...   \n",
       "2     Edsa ShangriLa 1 Garden Way Ortigas Mandaluyon...   \n",
       "3     Third Floor Mega Fashion Hall SM Megamall Orti...   \n",
       "4     Third Floor Mega Atrium SM Megamall Ortigas Ma...   \n",
       "...                                                 ...   \n",
       "9546  Kemanke Karamustafa Paa Mahallesi Rhtm Caddesi...   \n",
       "9547  Kouyolu Mahallesi Muhittin stnda Caddesi No 85...   \n",
       "9548  Kurueme Mahallesi Muallim Naci Caddesi No 56 B...   \n",
       "9549  Kurueme Mahallesi Muallim Naci Caddesi No 64B ...   \n",
       "9550  Cafeaa Mahallesi Bademalt Sokak No 21B Kadky s...   \n",
       "\n",
       "                                      Locality  \\\n",
       "0      Century City Mall Poblacion Makati City   \n",
       "1     Little Tokyo Legaspi Village Makati City   \n",
       "2      Edsa ShangriLa Ortigas Mandaluyong City   \n",
       "3         SM Megamall Ortigas Mandaluyong City   \n",
       "4         SM Megamall Ortigas Mandaluyong City   \n",
       "...                                        ...   \n",
       "9546                                    Karaky   \n",
       "9547                                   Kouyolu   \n",
       "9548                                   Kurueme   \n",
       "9549                                   Kurueme   \n",
       "9550                                      Moda   \n",
       "\n",
       "                                       Locality Verbose   Longitude  \\\n",
       "0     Century City Mall Poblacion Makati City Makati...  121.027535   \n",
       "1     Little Tokyo Legaspi Village Makati City Makat...  121.014101   \n",
       "2     Edsa ShangriLa Ortigas Mandaluyong City Mandal...  121.056831   \n",
       "3     SM Megamall Ortigas Mandaluyong City Mandaluyo...  121.056475   \n",
       "4     SM Megamall Ortigas Mandaluyong City Mandaluyo...  121.057508   \n",
       "...                                                 ...         ...   \n",
       "9546                                     Karaky stanbul   28.977392   \n",
       "9547                                    Kouyolu stanbul   29.041297   \n",
       "9548                                    Kurueme stanbul   29.034640   \n",
       "9549                                    Kurueme stanbul   29.036019   \n",
       "9550                                       Moda stanbul   29.026016   \n",
       "\n",
       "       Latitude                          Cuisines  ...          Currency  \\\n",
       "0     14.565443        French, Japanese, Desserts  ...  Botswana Pula(P)   \n",
       "1     14.553708                          Japanese  ...  Botswana Pula(P)   \n",
       "2     14.581404  Seafood, Asian, Filipino, Indian  ...  Botswana Pula(P)   \n",
       "3     14.585318                   Japanese, Sushi  ...  Botswana Pula(P)   \n",
       "4     14.584450                  Japanese, Korean  ...  Botswana Pula(P)   \n",
       "...         ...                               ...  ...               ...   \n",
       "9546  41.022793                           Turkish  ...  Turkish Lira(TL)   \n",
       "9547  41.009847   World Cuisine, Patisserie, Cafe  ...  Turkish Lira(TL)   \n",
       "9548  41.055817            Italian, World Cuisine  ...  Turkish Lira(TL)   \n",
       "9549  41.057979                   Restaurant Cafe  ...  Turkish Lira(TL)   \n",
       "9550  40.984776                              Cafe  ...  Turkish Lira(TL)   \n",
       "\n",
       "     Has Table booking  Has Online delivery  Is delivering now  \\\n",
       "0                    1                    0                  0   \n",
       "1                    1                    0                  0   \n",
       "2                    1                    0                  0   \n",
       "3                    0                    0                  0   \n",
       "4                    1                    0                  0   \n",
       "...                ...                  ...                ...   \n",
       "9546                 0                    0                  0   \n",
       "9547                 0                    0                  0   \n",
       "9548                 0                    0                  0   \n",
       "9549                 0                    0                  0   \n",
       "9550                 0                    0                  0   \n",
       "\n",
       "      Switch to order menu Price range  Aggregate rating  Rating color  \\\n",
       "0                       No           3               4.8             1   \n",
       "1                       No           3               4.5             1   \n",
       "2                       No           4               4.4             2   \n",
       "3                       No           4               4.9             1   \n",
       "4                       No           4               4.8             1   \n",
       "...                    ...         ...               ...           ...   \n",
       "9546                    No           3               4.1             2   \n",
       "9547                    No           3               4.2             2   \n",
       "9548                    No           4               3.7             3   \n",
       "9549                    No           4               4.0             2   \n",
       "9550                    No           2               4.0             2   \n",
       "\n",
       "      Rating text  Votes  \n",
       "0               1    314  \n",
       "1               1    591  \n",
       "2               5    270  \n",
       "3               1    365  \n",
       "4               1    229  \n",
       "...           ...    ...  \n",
       "9546            5    788  \n",
       "9547            5   1034  \n",
       "9548            2    661  \n",
       "9549            5    901  \n",
       "9550            5    591  \n",
       "\n",
       "[9551 rows x 21 columns]"
      ]
     },
     "execution_count": 14,
     "metadata": {},
     "output_type": "execute_result"
    }
   ],
   "source": [
    "Dataset"
   ]
  },
  {
   "cell_type": "code",
   "execution_count": 15,
   "id": "e3e84538",
   "metadata": {
    "scrolled": true
   },
   "outputs": [
    {
     "data": {
      "text/plain": [
       "Index(['Restaurant ID', 'Restaurant Name', 'Country Code', 'City', 'Address',\n",
       "       'Locality', 'Locality Verbose', 'Longitude', 'Latitude', 'Cuisines',\n",
       "       'Average Cost for two', 'Currency', 'Has Table booking',\n",
       "       'Has Online delivery', 'Is delivering now', 'Switch to order menu',\n",
       "       'Price range', 'Aggregate rating', 'Rating color', 'Rating text',\n",
       "       'Votes'],\n",
       "      dtype='object')"
      ]
     },
     "execution_count": 15,
     "metadata": {},
     "output_type": "execute_result"
    }
   ],
   "source": [
    "Dataset.columns"
   ]
  },
  {
   "cell_type": "code",
   "execution_count": 16,
   "id": "fceb436c",
   "metadata": {},
   "outputs": [],
   "source": [
    "#Splitting the dataset into Dependent and Independent Variable "
   ]
  },
  {
   "cell_type": "code",
   "execution_count": 17,
   "id": "3f066d5e",
   "metadata": {},
   "outputs": [],
   "source": [
    "#Selection of the dependent and independent Variable \n",
    "X = Dataset[['Country Code','Average Cost for two','Has Table booking',\n",
    "       'Has Online delivery', 'Is delivering now', 'Price range','Rating color', 'Rating text',\n",
    "       'Votes']].values"
   ]
  },
  {
   "cell_type": "code",
   "execution_count": 18,
   "id": "a7d2c58b",
   "metadata": {},
   "outputs": [
    {
     "data": {
      "text/plain": [
       "array([4.8, 4.5, 4.4, ..., 3.7, 4. , 4. ])"
      ]
     },
     "execution_count": 18,
     "metadata": {},
     "output_type": "execute_result"
    }
   ],
   "source": [
    "y = Dataset['Aggregate rating'].values\n",
    "y"
   ]
  },
  {
   "cell_type": "markdown",
   "id": "63925a3e",
   "metadata": {},
   "source": [
    "# Splitting the dataset into train_test_split"
   ]
  },
  {
   "cell_type": "code",
   "execution_count": 19,
   "id": "b25e1c77",
   "metadata": {},
   "outputs": [],
   "source": [
    "from sklearn.model_selection import train_test_split\n",
    "X_train , X_test , y_train , y_test = train_test_split(X , y , test_size=0.25 ,random_state=0)"
   ]
  },
  {
   "cell_type": "markdown",
   "id": "80649254",
   "metadata": {},
   "source": [
    "# Training the Model\n"
   ]
  },
  {
   "cell_type": "markdown",
   "id": "1059248c",
   "metadata": {},
   "source": [
    "# Linear Regression"
   ]
  },
  {
   "cell_type": "code",
   "execution_count": 20,
   "id": "d57adb97",
   "metadata": {},
   "outputs": [
    {
     "data": {
      "text/plain": [
       "LinearRegression()"
      ]
     },
     "execution_count": 20,
     "metadata": {},
     "output_type": "execute_result"
    }
   ],
   "source": [
    "from sklearn.linear_model import LinearRegression\n",
    "from sklearn.tree import DecisionTreeRegressor\n",
    "from sklearn.ensemble import RandomForestRegressor\n",
    "from sklearn.metrics import r2_score , accuracy_score,mean_absolute_error,mean_squared_error\n",
    "linear_regression = LinearRegression()\n",
    "linear_regression.fit(X_train , y_train)"
   ]
  },
  {
   "cell_type": "code",
   "execution_count": 21,
   "id": "eb117183",
   "metadata": {},
   "outputs": [
    {
     "data": {
      "text/plain": [
       "0.8227880743137277"
      ]
     },
     "execution_count": 21,
     "metadata": {},
     "output_type": "execute_result"
    }
   ],
   "source": [
    "linear_regression.score(X_train , y_train)"
   ]
  },
  {
   "cell_type": "code",
   "execution_count": 22,
   "id": "9ce5e8c4",
   "metadata": {},
   "outputs": [
    {
     "data": {
      "text/plain": [
       "0.803120112676149"
      ]
     },
     "execution_count": 22,
     "metadata": {},
     "output_type": "execute_result"
    }
   ],
   "source": [
    "linear_regression.score(X_test , y_test)"
   ]
  },
  {
   "cell_type": "code",
   "execution_count": 23,
   "id": "16827ef9",
   "metadata": {},
   "outputs": [],
   "source": [
    "linear_pred = linear_regression.predict(X_test)"
   ]
  },
  {
   "cell_type": "code",
   "execution_count": 24,
   "id": "7de6e6c9",
   "metadata": {},
   "outputs": [
    {
     "data": {
      "text/plain": [
       "0.7725056326658835"
      ]
     },
     "execution_count": 24,
     "metadata": {},
     "output_type": "execute_result"
    }
   ],
   "source": [
    "r2_score(linear_pred,y_test)"
   ]
  },
  {
   "cell_type": "code",
   "execution_count": 25,
   "id": "d0ffcfe9",
   "metadata": {},
   "outputs": [
    {
     "data": {
      "text/plain": [
       "0.4634856656010208"
      ]
     },
     "execution_count": 25,
     "metadata": {},
     "output_type": "execute_result"
    }
   ],
   "source": [
    "mean_absolute_error(linear_pred,y_test)"
   ]
  },
  {
   "cell_type": "code",
   "execution_count": 26,
   "id": "7b1377ab",
   "metadata": {},
   "outputs": [
    {
     "data": {
      "text/plain": [
       "0.4499507784539403"
      ]
     },
     "execution_count": 26,
     "metadata": {},
     "output_type": "execute_result"
    }
   ],
   "source": [
    "mean_squared_error(linear_pred,y_test)"
   ]
  },
  {
   "cell_type": "markdown",
   "id": "ccfa50a4",
   "metadata": {},
   "source": [
    "# Random Forest Regression"
   ]
  },
  {
   "cell_type": "code",
   "execution_count": 27,
   "id": "53d9fb3e",
   "metadata": {},
   "outputs": [
    {
     "data": {
      "text/plain": [
       "RandomForestRegressor()"
      ]
     },
     "execution_count": 27,
     "metadata": {},
     "output_type": "execute_result"
    }
   ],
   "source": [
    "random_for = RandomForestRegressor()\n",
    "random_for.fit(X_train,y_train)"
   ]
  },
  {
   "cell_type": "code",
   "execution_count": 28,
   "id": "538f6b7d",
   "metadata": {},
   "outputs": [
    {
     "data": {
      "text/plain": [
       "0.9956760047235774"
      ]
     },
     "execution_count": 28,
     "metadata": {},
     "output_type": "execute_result"
    }
   ],
   "source": [
    "random_for.score(X_train,y_train)"
   ]
  },
  {
   "cell_type": "code",
   "execution_count": 29,
   "id": "d0aada9a",
   "metadata": {},
   "outputs": [
    {
     "data": {
      "text/plain": [
       "0.9828961428714201"
      ]
     },
     "execution_count": 29,
     "metadata": {},
     "output_type": "execute_result"
    }
   ],
   "source": [
    "random_for.score(X_test,y_test)"
   ]
  },
  {
   "cell_type": "code",
   "execution_count": 30,
   "id": "f086e304",
   "metadata": {},
   "outputs": [],
   "source": [
    "random_pred = random_for.predict(X_test)"
   ]
  },
  {
   "cell_type": "code",
   "execution_count": 31,
   "id": "ea79eb94",
   "metadata": {},
   "outputs": [
    {
     "data": {
      "text/plain": [
       "0.9828083752575801"
      ]
     },
     "execution_count": 31,
     "metadata": {},
     "output_type": "execute_result"
    }
   ],
   "source": [
    "r2_score(random_pred,y_test)"
   ]
  },
  {
   "cell_type": "code",
   "execution_count": 32,
   "id": "de034c5f",
   "metadata": {},
   "outputs": [
    {
     "data": {
      "text/plain": [
       "0.1327387681765994"
      ]
     },
     "execution_count": 32,
     "metadata": {},
     "output_type": "execute_result"
    }
   ],
   "source": [
    "mean_absolute_error(random_pred,y_test)"
   ]
  },
  {
   "cell_type": "markdown",
   "id": "91bdb696",
   "metadata": {},
   "source": [
    "# Decision Tree"
   ]
  },
  {
   "cell_type": "code",
   "execution_count": 33,
   "id": "16c9d8e3",
   "metadata": {},
   "outputs": [
    {
     "data": {
      "text/plain": [
       "DecisionTreeRegressor()"
      ]
     },
     "execution_count": 33,
     "metadata": {},
     "output_type": "execute_result"
    }
   ],
   "source": [
    "decision_tree = DecisionTreeRegressor()\n",
    "decision_tree.fit(X_train,y_train)"
   ]
  },
  {
   "cell_type": "code",
   "execution_count": 34,
   "id": "208aaee8",
   "metadata": {},
   "outputs": [
    {
     "data": {
      "text/plain": [
       "0.9969579984972561"
      ]
     },
     "execution_count": 34,
     "metadata": {},
     "output_type": "execute_result"
    }
   ],
   "source": [
    "decision_tree.score(X_train,y_train)"
   ]
  },
  {
   "cell_type": "code",
   "execution_count": 35,
   "id": "03299e77",
   "metadata": {},
   "outputs": [
    {
     "data": {
      "text/plain": [
       "0.9769993331653697"
      ]
     },
     "execution_count": 35,
     "metadata": {},
     "output_type": "execute_result"
    }
   ],
   "source": [
    "decision_tree.score(X_test,y_test)"
   ]
  },
  {
   "cell_type": "code",
   "execution_count": 36,
   "id": "4796effe",
   "metadata": {},
   "outputs": [],
   "source": [
    "decision_pred = decision_tree.predict(X_test)"
   ]
  },
  {
   "cell_type": "code",
   "execution_count": 37,
   "id": "e77aa8a3",
   "metadata": {},
   "outputs": [
    {
     "data": {
      "text/plain": [
       "0.9770815055058436"
      ]
     },
     "execution_count": 37,
     "metadata": {},
     "output_type": "execute_result"
    }
   ],
   "source": [
    "r2_score(decision_pred,y_test)"
   ]
  },
  {
   "cell_type": "code",
   "execution_count": 38,
   "id": "51b0acde",
   "metadata": {},
   "outputs": [
    {
     "data": {
      "text/plain": [
       "0.1482321347664608"
      ]
     },
     "execution_count": 38,
     "metadata": {},
     "output_type": "execute_result"
    }
   ],
   "source": [
    "mean_absolute_error(decision_pred,y_test)"
   ]
  },
  {
   "cell_type": "code",
   "execution_count": null,
   "id": "9293de08",
   "metadata": {},
   "outputs": [],
   "source": []
  },
  {
   "cell_type": "code",
   "execution_count": null,
   "id": "eb37d1b1",
   "metadata": {},
   "outputs": [],
   "source": []
  }
 ],
 "metadata": {
  "kernelspec": {
   "display_name": "Python 3 (ipykernel)",
   "language": "python",
   "name": "python3"
  },
  "language_info": {
   "codemirror_mode": {
    "name": "ipython",
    "version": 3
   },
   "file_extension": ".py",
   "mimetype": "text/x-python",
   "name": "python",
   "nbconvert_exporter": "python",
   "pygments_lexer": "ipython3",
   "version": "3.9.13"
  }
 },
 "nbformat": 4,
 "nbformat_minor": 5
}
